{
 "cells": [
  {
   "cell_type": "code",
   "execution_count": 2,
   "id": "eb28ca25-bddc-4c59-a248-e4979d1965df",
   "metadata": {},
   "outputs": [
    {
     "name": "stdout",
     "output_type": "stream",
     "text": [
      "Collecting yfinance\n",
      "  Downloading yfinance-0.2.66-py2.py3-none-any.whl.metadata (6.0 kB)\n",
      "Requirement already satisfied: pandas in c:\\users\\echoe\\anaconda3\\lib\\site-packages (2.2.3)\n",
      "Requirement already satisfied: numpy>=1.16.5 in c:\\users\\echoe\\anaconda3\\lib\\site-packages (from yfinance) (2.1.3)\n",
      "Requirement already satisfied: requests>=2.31 in c:\\users\\echoe\\anaconda3\\lib\\site-packages (from yfinance) (2.32.3)\n",
      "Collecting multitasking>=0.0.7 (from yfinance)\n",
      "  Downloading multitasking-0.0.12.tar.gz (19 kB)\n",
      "  Preparing metadata (setup.py): started\n",
      "  Preparing metadata (setup.py): finished with status 'done'\n",
      "Requirement already satisfied: platformdirs>=2.0.0 in c:\\users\\echoe\\anaconda3\\lib\\site-packages (from yfinance) (4.3.7)\n",
      "Requirement already satisfied: pytz>=2022.5 in c:\\users\\echoe\\anaconda3\\lib\\site-packages (from yfinance) (2024.1)\n",
      "Requirement already satisfied: frozendict>=2.3.4 in c:\\users\\echoe\\anaconda3\\lib\\site-packages (from yfinance) (2.4.2)\n",
      "Collecting peewee>=3.16.2 (from yfinance)\n",
      "  Downloading peewee-3.18.2.tar.gz (949 kB)\n",
      "     ---------------------------------------- 0.0/949.2 kB ? eta -:--:--\n",
      "     ---------------------------------------- 0.0/949.2 kB ? eta -:--:--\n",
      "     ----------- ---------------------------- 262.1/949.2 kB ? eta -:--:--\n",
      "     ------------------- ---------------- 524.3/949.2 kB 995.1 kB/s eta 0:00:01\n",
      "     ------------------------------- ------ 786.4/949.2 kB 1.0 MB/s eta 0:00:01\n",
      "     -------------------------------------- 949.2/949.2 kB 1.0 MB/s eta 0:00:00\n",
      "  Installing build dependencies: started\n",
      "  Installing build dependencies: finished with status 'done'\n",
      "  Getting requirements to build wheel: started\n",
      "  Getting requirements to build wheel: finished with status 'done'\n",
      "  Preparing metadata (pyproject.toml): started\n",
      "  Preparing metadata (pyproject.toml): finished with status 'done'\n",
      "Requirement already satisfied: beautifulsoup4>=4.11.1 in c:\\users\\echoe\\anaconda3\\lib\\site-packages (from yfinance) (4.12.3)\n",
      "Collecting curl_cffi>=0.7 (from yfinance)\n",
      "  Downloading curl_cffi-0.13.0-cp39-abi3-win_amd64.whl.metadata (13 kB)\n",
      "Requirement already satisfied: protobuf>=3.19.0 in c:\\users\\echoe\\anaconda3\\lib\\site-packages (from yfinance) (5.29.3)\n",
      "Collecting websockets>=13.0 (from yfinance)\n",
      "  Downloading websockets-15.0.1-cp313-cp313-win_amd64.whl.metadata (7.0 kB)\n",
      "Requirement already satisfied: python-dateutil>=2.8.2 in c:\\users\\echoe\\anaconda3\\lib\\site-packages (from pandas) (2.9.0.post0)\n",
      "Requirement already satisfied: tzdata>=2022.7 in c:\\users\\echoe\\anaconda3\\lib\\site-packages (from pandas) (2025.2)\n",
      "Requirement already satisfied: soupsieve>1.2 in c:\\users\\echoe\\anaconda3\\lib\\site-packages (from beautifulsoup4>=4.11.1->yfinance) (2.5)\n",
      "Requirement already satisfied: cffi>=1.12.0 in c:\\users\\echoe\\anaconda3\\lib\\site-packages (from curl_cffi>=0.7->yfinance) (1.17.1)\n",
      "Requirement already satisfied: certifi>=2024.2.2 in c:\\users\\echoe\\anaconda3\\lib\\site-packages (from curl_cffi>=0.7->yfinance) (2025.8.3)\n",
      "Requirement already satisfied: pycparser in c:\\users\\echoe\\anaconda3\\lib\\site-packages (from cffi>=1.12.0->curl_cffi>=0.7->yfinance) (2.21)\n",
      "Requirement already satisfied: six>=1.5 in c:\\users\\echoe\\anaconda3\\lib\\site-packages (from python-dateutil>=2.8.2->pandas) (1.17.0)\n",
      "Requirement already satisfied: charset-normalizer<4,>=2 in c:\\users\\echoe\\anaconda3\\lib\\site-packages (from requests>=2.31->yfinance) (3.3.2)\n",
      "Requirement already satisfied: idna<4,>=2.5 in c:\\users\\echoe\\anaconda3\\lib\\site-packages (from requests>=2.31->yfinance) (3.7)\n",
      "Requirement already satisfied: urllib3<3,>=1.21.1 in c:\\users\\echoe\\anaconda3\\lib\\site-packages (from requests>=2.31->yfinance) (2.3.0)\n",
      "Downloading yfinance-0.2.66-py2.py3-none-any.whl (123 kB)\n",
      "Downloading curl_cffi-0.13.0-cp39-abi3-win_amd64.whl (1.6 MB)\n",
      "   ---------------------------------------- 0.0/1.6 MB ? eta -:--:--\n",
      "   ---------------------------------------- 0.0/1.6 MB ? eta -:--:--\n",
      "   ------ --------------------------------- 0.3/1.6 MB ? eta -:--:--\n",
      "   ------ --------------------------------- 0.3/1.6 MB ? eta -:--:--\n",
      "   ------------ --------------------------- 0.5/1.6 MB 771.1 kB/s eta 0:00:02\n",
      "   ------------ --------------------------- 0.5/1.6 MB 771.1 kB/s eta 0:00:02\n",
      "   ------------ --------------------------- 0.5/1.6 MB 771.1 kB/s eta 0:00:02\n",
      "   ------------------- -------------------- 0.8/1.6 MB 574.5 kB/s eta 0:00:02\n",
      "   ------------------------- -------------- 1.0/1.6 MB 593.6 kB/s eta 0:00:01\n",
      "   ------------------------- -------------- 1.0/1.6 MB 593.6 kB/s eta 0:00:01\n",
      "   ------------------------- -------------- 1.0/1.6 MB 593.6 kB/s eta 0:00:01\n",
      "   -------------------------------- ------- 1.3/1.6 MB 552.4 kB/s eta 0:00:01\n",
      "   -------------------------------- ------- 1.3/1.6 MB 552.4 kB/s eta 0:00:01\n",
      "   -------------------------------- ------- 1.3/1.6 MB 552.4 kB/s eta 0:00:01\n",
      "   ---------------------------------------- 1.6/1.6 MB 537.1 kB/s eta 0:00:00\n",
      "Downloading websockets-15.0.1-cp313-cp313-win_amd64.whl (176 kB)\n",
      "Building wheels for collected packages: multitasking, peewee\n",
      "  Building wheel for multitasking (setup.py): started\n",
      "  Building wheel for multitasking (setup.py): finished with status 'done'\n",
      "  Created wheel for multitasking: filename=multitasking-0.0.12-py3-none-any.whl size=15618 sha256=f5e3449175bf9b4cc2d3f9640ba1bb05bf635f8717c785ca3afe9b651f2ccf37\n",
      "  Stored in directory: c:\\users\\echoe\\appdata\\local\\pip\\cache\\wheels\\1e\\df\\0f\\e2bbb22d689b30c681feb5410ab64a2523437b34c8ecfc6476\n",
      "  Building wheel for peewee (pyproject.toml): started\n",
      "  Building wheel for peewee (pyproject.toml): finished with status 'done'\n",
      "  Created wheel for peewee: filename=peewee-3.18.2-py3-none-any.whl size=139153 sha256=130ce05b0f7889f233bf28fe107c3b3d4db97e9bfdc637e52fa6f209ebed9048\n",
      "  Stored in directory: c:\\users\\echoe\\appdata\\local\\pip\\cache\\wheels\\1c\\48\\cc\\00b7d0e7defa21a58915654917c89eaedd32a6e614d8e4ad92\n",
      "Successfully built multitasking peewee\n",
      "Installing collected packages: peewee, multitasking, websockets, curl_cffi, yfinance\n",
      "\n",
      "   ---------------------------------------- 0/5 [peewee]\n",
      "   ---------------------------------------- 0/5 [peewee]\n",
      "   ---------------- ----------------------- 2/5 [websockets]\n",
      "   ---------------- ----------------------- 2/5 [websockets]\n",
      "   ------------------------ --------------- 3/5 [curl_cffi]\n",
      "   ------------------------ --------------- 3/5 [curl_cffi]\n",
      "   -------------------------------- ------- 4/5 [yfinance]\n",
      "   -------------------------------- ------- 4/5 [yfinance]\n",
      "   ---------------------------------------- 5/5 [yfinance]\n",
      "\n",
      "Successfully installed curl_cffi-0.13.0 multitasking-0.0.12 peewee-3.18.2 websockets-15.0.1 yfinance-0.2.66\n"
     ]
    },
    {
     "name": "stderr",
     "output_type": "stream",
     "text": [
      "  DEPRECATION: Building 'multitasking' using the legacy setup.py bdist_wheel mechanism, which will be removed in a future version. pip 25.3 will enforce this behaviour change. A possible replacement is to use the standardized build interface by setting the `--use-pep517` option, (possibly combined with `--no-build-isolation`), or adding a `pyproject.toml` file to the source tree of 'multitasking'. Discussion can be found at https://github.com/pypa/pip/issues/6334\n"
     ]
    }
   ],
   "source": [
    "!pip install yfinance pandas\n"
   ]
  },
  {
   "cell_type": "code",
   "execution_count": 3,
   "id": "b939ccd5-154c-4e83-9dc0-274e204d7b84",
   "metadata": {
    "editable": true,
    "slideshow": {
     "slide_type": ""
    },
    "tags": []
   },
   "outputs": [],
   "source": [
    "import yfinance as yf\n",
    "import pandas as pd"
   ]
  },
  {
   "cell_type": "code",
   "execution_count": 4,
   "id": "2680f340-21f9-4dae-b23b-7f6d4ee562e0",
   "metadata": {},
   "outputs": [],
   "source": [
    "#download historical data of tesla\n",
    "\n",
    "tesla = yf.Ticker(\"TSLA\")\n",
    "tesla_data = tesla.history(period=\"max\")"
   ]
  },
  {
   "cell_type": "code",
   "execution_count": 5,
   "id": "02754f6a-66da-4cda-a88b-b8fa4d34d41f",
   "metadata": {},
   "outputs": [],
   "source": [
    "#restore indixe but that date be a column\n",
    "\n",
    "tesla_data.reset_index(inplace=True)"
   ]
  },
  {
   "cell_type": "code",
   "execution_count": 6,
   "id": "f46deca7-40bb-4861-9546-7a1a9db6fd03",
   "metadata": {},
   "outputs": [
    {
     "data": {
      "text/html": [
       "<div>\n",
       "<style scoped>\n",
       "    .dataframe tbody tr th:only-of-type {\n",
       "        vertical-align: middle;\n",
       "    }\n",
       "\n",
       "    .dataframe tbody tr th {\n",
       "        vertical-align: top;\n",
       "    }\n",
       "\n",
       "    .dataframe thead th {\n",
       "        text-align: right;\n",
       "    }\n",
       "</style>\n",
       "<table border=\"1\" class=\"dataframe\">\n",
       "  <thead>\n",
       "    <tr style=\"text-align: right;\">\n",
       "      <th></th>\n",
       "      <th>Date</th>\n",
       "      <th>Open</th>\n",
       "      <th>High</th>\n",
       "      <th>Low</th>\n",
       "      <th>Close</th>\n",
       "      <th>Volume</th>\n",
       "      <th>Dividends</th>\n",
       "      <th>Stock Splits</th>\n",
       "    </tr>\n",
       "  </thead>\n",
       "  <tbody>\n",
       "    <tr>\n",
       "      <th>0</th>\n",
       "      <td>2010-06-29 00:00:00-04:00</td>\n",
       "      <td>1.266667</td>\n",
       "      <td>1.666667</td>\n",
       "      <td>1.169333</td>\n",
       "      <td>1.592667</td>\n",
       "      <td>281494500</td>\n",
       "      <td>0.0</td>\n",
       "      <td>0.0</td>\n",
       "    </tr>\n",
       "    <tr>\n",
       "      <th>1</th>\n",
       "      <td>2010-06-30 00:00:00-04:00</td>\n",
       "      <td>1.719333</td>\n",
       "      <td>2.028000</td>\n",
       "      <td>1.553333</td>\n",
       "      <td>1.588667</td>\n",
       "      <td>257806500</td>\n",
       "      <td>0.0</td>\n",
       "      <td>0.0</td>\n",
       "    </tr>\n",
       "    <tr>\n",
       "      <th>2</th>\n",
       "      <td>2010-07-01 00:00:00-04:00</td>\n",
       "      <td>1.666667</td>\n",
       "      <td>1.728000</td>\n",
       "      <td>1.351333</td>\n",
       "      <td>1.464000</td>\n",
       "      <td>123282000</td>\n",
       "      <td>0.0</td>\n",
       "      <td>0.0</td>\n",
       "    </tr>\n",
       "    <tr>\n",
       "      <th>3</th>\n",
       "      <td>2010-07-02 00:00:00-04:00</td>\n",
       "      <td>1.533333</td>\n",
       "      <td>1.540000</td>\n",
       "      <td>1.247333</td>\n",
       "      <td>1.280000</td>\n",
       "      <td>77097000</td>\n",
       "      <td>0.0</td>\n",
       "      <td>0.0</td>\n",
       "    </tr>\n",
       "    <tr>\n",
       "      <th>4</th>\n",
       "      <td>2010-07-06 00:00:00-04:00</td>\n",
       "      <td>1.333333</td>\n",
       "      <td>1.333333</td>\n",
       "      <td>1.055333</td>\n",
       "      <td>1.074000</td>\n",
       "      <td>103003500</td>\n",
       "      <td>0.0</td>\n",
       "      <td>0.0</td>\n",
       "    </tr>\n",
       "  </tbody>\n",
       "</table>\n",
       "</div>"
      ],
      "text/plain": [
       "                       Date      Open      High       Low     Close  \\\n",
       "0 2010-06-29 00:00:00-04:00  1.266667  1.666667  1.169333  1.592667   \n",
       "1 2010-06-30 00:00:00-04:00  1.719333  2.028000  1.553333  1.588667   \n",
       "2 2010-07-01 00:00:00-04:00  1.666667  1.728000  1.351333  1.464000   \n",
       "3 2010-07-02 00:00:00-04:00  1.533333  1.540000  1.247333  1.280000   \n",
       "4 2010-07-06 00:00:00-04:00  1.333333  1.333333  1.055333  1.074000   \n",
       "\n",
       "      Volume  Dividends  Stock Splits  \n",
       "0  281494500        0.0           0.0  \n",
       "1  257806500        0.0           0.0  \n",
       "2  123282000        0.0           0.0  \n",
       "3   77097000        0.0           0.0  \n",
       "4  103003500        0.0           0.0  "
      ]
     },
     "execution_count": 6,
     "metadata": {},
     "output_type": "execute_result"
    }
   ],
   "source": [
    "#Show firts 5 rows\n",
    "\n",
    "tesla_data.head()"
   ]
  },
  {
   "cell_type": "code",
   "execution_count": 61,
   "id": "f31da344-9d52-4bfa-86e3-adeca77e8438",
   "metadata": {},
   "outputs": [
    {
     "name": "stdout",
     "output_type": "stream",
     "text": [
      "Requirement already satisfied: html5lib in c:\\users\\echoe\\anaconda3\\lib\\site-packages (1.1)\n",
      "Requirement already satisfied: lxml in c:\\users\\echoe\\anaconda3\\lib\\site-packages (5.3.0)\n",
      "Requirement already satisfied: six>=1.9 in c:\\users\\echoe\\anaconda3\\lib\\site-packages (from html5lib) (1.17.0)\n",
      "Requirement already satisfied: webencodings in c:\\users\\echoe\\anaconda3\\lib\\site-packages (from html5lib) (0.5.1)\n"
     ]
    }
   ],
   "source": [
    "!pip install html5lib lxml"
   ]
  },
  {
   "cell_type": "code",
   "execution_count": 57,
   "id": "dfd319c2-667e-4c9d-b93d-3ece86959f83",
   "metadata": {},
   "outputs": [],
   "source": [
    "import requests\n",
    "from io import StringIO"
   ]
  },
  {
   "cell_type": "code",
   "execution_count": 12,
   "id": "a2dd33db-0cf3-40c7-9c00-b2edf78b087e",
   "metadata": {},
   "outputs": [],
   "source": [
    "#Url business reveneu of tesla"
   ]
  },
  {
   "cell_type": "code",
   "execution_count": 75,
   "id": "f826ede9-0f6c-4915-9774-072f280fb501",
   "metadata": {},
   "outputs": [],
   "source": [
    "url = \"https://en.wikipedia.org/wiki/Tesla,_Inc.#Financials\""
   ]
  },
  {
   "cell_type": "code",
   "execution_count": 77,
   "id": "a20d9e90-c6c9-4712-b80d-434a6f547d68",
   "metadata": {},
   "outputs": [],
   "source": [
    "headers = {\"User-Agent\": \"Mozilla/5.0\"}\n",
    "response = requests.get(url, headers=headers)\n",
    "html_data = response.text"
   ]
  },
  {
   "cell_type": "code",
   "execution_count": 78,
   "id": "8b8380ae-8612-4ff7-8313-97b08d18906f",
   "metadata": {},
   "outputs": [],
   "source": [
    "html_io = StringIO(html_data)"
   ]
  },
  {
   "cell_type": "code",
   "execution_count": 79,
   "id": "fd405c05-6f4e-4021-9e43-0a2850c8c8c9",
   "metadata": {},
   "outputs": [],
   "source": [
    "tables = pd.read_html(html_io)"
   ]
  },
  {
   "cell_type": "code",
   "execution_count": 83,
   "id": "b622f4d6-e15e-46db-9451-52808153a522",
   "metadata": {},
   "outputs": [],
   "source": [
    "\n",
    "tesla_revenue = None\n",
    "for t in tables:\n",
    "    if any(t.columns.astype(str).str.contains(\"Revenue\", case=False, regex=True)):\n",
    "        tesla_revenue = t.copy()\n",
    "        break\n",
    "\n",
    "if tesla_revenue is None:\n",
    "    raise ValueError(\"No se encontró ninguna tabla con 'Revenue' en Wikipedia.\")\n"
   ]
  },
  {
   "cell_type": "code",
   "execution_count": 84,
   "id": "d2e3e1ef-87ce-4e56-a2ea-32ecdd386383",
   "metadata": {},
   "outputs": [],
   "source": [
    "rev_col = [c for c in tesla_revenue.columns if \"Revenue\" in str(c)][0]\n",
    "tesla_revenue[rev_col] = (\n",
    "    tesla_revenue[rev_col].astype(str)\n",
    "    .str.replace('[\\$,]', '', regex=True)\n",
    ")\n",
    "tesla_revenue[rev_col] = pd.to_numeric(tesla_revenue[rev_col], errors=\"coerce\")"
   ]
  },
  {
   "cell_type": "code",
   "execution_count": 85,
   "id": "e4261386-e62b-47d9-97ca-102471e3a468",
   "metadata": {},
   "outputs": [
    {
     "data": {
      "text/html": [
       "<div>\n",
       "<style scoped>\n",
       "    .dataframe tbody tr th:only-of-type {\n",
       "        vertical-align: middle;\n",
       "    }\n",
       "\n",
       "    .dataframe tbody tr th {\n",
       "        vertical-align: top;\n",
       "    }\n",
       "\n",
       "    .dataframe thead th {\n",
       "        text-align: right;\n",
       "    }\n",
       "</style>\n",
       "<table border=\"1\" class=\"dataframe\">\n",
       "  <thead>\n",
       "    <tr style=\"text-align: right;\">\n",
       "      <th></th>\n",
       "      <th>Year</th>\n",
       "      <th>Revenue (US$ m)</th>\n",
       "      <th>Net income (US$ m)</th>\n",
       "      <th>Total assets (US$ m)</th>\n",
       "      <th>Employees</th>\n",
       "      <th>Sources</th>\n",
       "    </tr>\n",
       "  </thead>\n",
       "  <tbody>\n",
       "    <tr>\n",
       "      <th>15</th>\n",
       "      <td>2020</td>\n",
       "      <td>31536</td>\n",
       "      <td>721</td>\n",
       "      <td>52148</td>\n",
       "      <td>70757.0</td>\n",
       "      <td>[574]</td>\n",
       "    </tr>\n",
       "    <tr>\n",
       "      <th>16</th>\n",
       "      <td>2021</td>\n",
       "      <td>53823</td>\n",
       "      <td>5519</td>\n",
       "      <td>62131</td>\n",
       "      <td>99290.0</td>\n",
       "      <td>[574]</td>\n",
       "    </tr>\n",
       "    <tr>\n",
       "      <th>17</th>\n",
       "      <td>2022</td>\n",
       "      <td>81462</td>\n",
       "      <td>12556</td>\n",
       "      <td>82338</td>\n",
       "      <td>127855.0</td>\n",
       "      <td>[574]</td>\n",
       "    </tr>\n",
       "    <tr>\n",
       "      <th>18</th>\n",
       "      <td>2023</td>\n",
       "      <td>96773</td>\n",
       "      <td>14997</td>\n",
       "      <td>106618</td>\n",
       "      <td>140473.0</td>\n",
       "      <td>[574]</td>\n",
       "    </tr>\n",
       "    <tr>\n",
       "      <th>19</th>\n",
       "      <td>2024</td>\n",
       "      <td>97690</td>\n",
       "      <td>7091</td>\n",
       "      <td>122070</td>\n",
       "      <td>125665.0</td>\n",
       "      <td>[574]</td>\n",
       "    </tr>\n",
       "  </tbody>\n",
       "</table>\n",
       "</div>"
      ],
      "text/plain": [
       "    Year  Revenue (US$ m) Net income (US$ m)  Total assets (US$ m)  Employees  \\\n",
       "15  2020            31536                721                 52148    70757.0   \n",
       "16  2021            53823               5519                 62131    99290.0   \n",
       "17  2022            81462              12556                 82338   127855.0   \n",
       "18  2023            96773              14997                106618   140473.0   \n",
       "19  2024            97690               7091                122070   125665.0   \n",
       "\n",
       "   Sources  \n",
       "15   [574]  \n",
       "16   [574]  \n",
       "17   [574]  \n",
       "18   [574]  \n",
       "19   [574]  "
      ]
     },
     "execution_count": 85,
     "metadata": {},
     "output_type": "execute_result"
    }
   ],
   "source": [
    "tesla_revenue.tail(5)"
   ]
  },
  {
   "cell_type": "code",
   "execution_count": 86,
   "id": "9ecb28eb-9cc5-4088-8220-3cf6cc6ab0dc",
   "metadata": {},
   "outputs": [],
   "source": [
    "# 3 Question"
   ]
  },
  {
   "cell_type": "code",
   "execution_count": 87,
   "id": "a7af221f-06b8-4437-92ab-ec73cb39c947",
   "metadata": {},
   "outputs": [],
   "source": [
    "#Download historical data GME\n",
    "gme = yf.Ticker(\"GME\")\n",
    "gme_data = gme.history(period=\"max\")"
   ]
  },
  {
   "cell_type": "code",
   "execution_count": 88,
   "id": "f7a6b5fb-e733-4a1d-91fe-178885bf4d14",
   "metadata": {},
   "outputs": [],
   "source": [
    "#reset index\n",
    "\n",
    "gme_data = gme_data.reset_index()"
   ]
  },
  {
   "cell_type": "code",
   "execution_count": 89,
   "id": "919ee028-8c41-45f6-897f-23a9ced10c65",
   "metadata": {},
   "outputs": [
    {
     "data": {
      "text/html": [
       "<div>\n",
       "<style scoped>\n",
       "    .dataframe tbody tr th:only-of-type {\n",
       "        vertical-align: middle;\n",
       "    }\n",
       "\n",
       "    .dataframe tbody tr th {\n",
       "        vertical-align: top;\n",
       "    }\n",
       "\n",
       "    .dataframe thead th {\n",
       "        text-align: right;\n",
       "    }\n",
       "</style>\n",
       "<table border=\"1\" class=\"dataframe\">\n",
       "  <thead>\n",
       "    <tr style=\"text-align: right;\">\n",
       "      <th></th>\n",
       "      <th>Date</th>\n",
       "      <th>Open</th>\n",
       "      <th>High</th>\n",
       "      <th>Low</th>\n",
       "      <th>Close</th>\n",
       "      <th>Volume</th>\n",
       "      <th>Dividends</th>\n",
       "      <th>Stock Splits</th>\n",
       "    </tr>\n",
       "  </thead>\n",
       "  <tbody>\n",
       "    <tr>\n",
       "      <th>0</th>\n",
       "      <td>2002-02-13 00:00:00-05:00</td>\n",
       "      <td>1.620129</td>\n",
       "      <td>1.693350</td>\n",
       "      <td>1.603296</td>\n",
       "      <td>1.691667</td>\n",
       "      <td>76216000</td>\n",
       "      <td>0.0</td>\n",
       "      <td>0.0</td>\n",
       "    </tr>\n",
       "    <tr>\n",
       "      <th>1</th>\n",
       "      <td>2002-02-14 00:00:00-05:00</td>\n",
       "      <td>1.712708</td>\n",
       "      <td>1.716074</td>\n",
       "      <td>1.670626</td>\n",
       "      <td>1.683251</td>\n",
       "      <td>11021600</td>\n",
       "      <td>0.0</td>\n",
       "      <td>0.0</td>\n",
       "    </tr>\n",
       "    <tr>\n",
       "      <th>2</th>\n",
       "      <td>2002-02-15 00:00:00-05:00</td>\n",
       "      <td>1.683250</td>\n",
       "      <td>1.687458</td>\n",
       "      <td>1.658002</td>\n",
       "      <td>1.674834</td>\n",
       "      <td>8389600</td>\n",
       "      <td>0.0</td>\n",
       "      <td>0.0</td>\n",
       "    </tr>\n",
       "    <tr>\n",
       "      <th>3</th>\n",
       "      <td>2002-02-19 00:00:00-05:00</td>\n",
       "      <td>1.666418</td>\n",
       "      <td>1.666418</td>\n",
       "      <td>1.578048</td>\n",
       "      <td>1.607504</td>\n",
       "      <td>7410400</td>\n",
       "      <td>0.0</td>\n",
       "      <td>0.0</td>\n",
       "    </tr>\n",
       "    <tr>\n",
       "      <th>4</th>\n",
       "      <td>2002-02-20 00:00:00-05:00</td>\n",
       "      <td>1.615920</td>\n",
       "      <td>1.662210</td>\n",
       "      <td>1.603296</td>\n",
       "      <td>1.662210</td>\n",
       "      <td>6892800</td>\n",
       "      <td>0.0</td>\n",
       "      <td>0.0</td>\n",
       "    </tr>\n",
       "  </tbody>\n",
       "</table>\n",
       "</div>"
      ],
      "text/plain": [
       "                       Date      Open      High       Low     Close    Volume  \\\n",
       "0 2002-02-13 00:00:00-05:00  1.620129  1.693350  1.603296  1.691667  76216000   \n",
       "1 2002-02-14 00:00:00-05:00  1.712708  1.716074  1.670626  1.683251  11021600   \n",
       "2 2002-02-15 00:00:00-05:00  1.683250  1.687458  1.658002  1.674834   8389600   \n",
       "3 2002-02-19 00:00:00-05:00  1.666418  1.666418  1.578048  1.607504   7410400   \n",
       "4 2002-02-20 00:00:00-05:00  1.615920  1.662210  1.603296  1.662210   6892800   \n",
       "\n",
       "   Dividends  Stock Splits  \n",
       "0        0.0           0.0  \n",
       "1        0.0           0.0  \n",
       "2        0.0           0.0  \n",
       "3        0.0           0.0  \n",
       "4        0.0           0.0  "
      ]
     },
     "execution_count": 89,
     "metadata": {},
     "output_type": "execute_result"
    }
   ],
   "source": [
    "gme_data.head()"
   ]
  },
  {
   "cell_type": "code",
   "execution_count": 90,
   "id": "6bd4fb43-c3f3-4bf8-b83c-6ae64b223198",
   "metadata": {},
   "outputs": [],
   "source": [
    "#Answer 4"
   ]
  },
  {
   "cell_type": "code",
   "execution_count": 112,
   "id": "a81e093c-08f9-41ba-b5b3-30e7f52c1e2e",
   "metadata": {},
   "outputs": [],
   "source": [
    "#make ticket GME"
   ]
  },
  {
   "cell_type": "code",
   "execution_count": 106,
   "id": "2c1a6c3e-5170-457e-8efb-2bab2dd27f90",
   "metadata": {},
   "outputs": [],
   "source": [
    "gme = yf.Ticker(\"GME\")"
   ]
  },
  {
   "cell_type": "code",
   "execution_count": 113,
   "id": "3e5f2d1a-8963-418a-a99b-d131fd399e8c",
   "metadata": {},
   "outputs": [],
   "source": [
    "#get revenew 3 month"
   ]
  },
  {
   "cell_type": "code",
   "execution_count": 107,
   "id": "92dae3ab-1bdd-4350-84cc-456aa7ed6a11",
   "metadata": {},
   "outputs": [],
   "source": [
    "gme_financials = gme.quarterly_financials\n"
   ]
  },
  {
   "cell_type": "code",
   "execution_count": 108,
   "id": "63d911d7-6c40-4c02-86e2-07d66bfe9660",
   "metadata": {},
   "outputs": [],
   "source": [
    "gme_revenue = gme_financials.T"
   ]
  },
  {
   "cell_type": "code",
   "execution_count": 114,
   "id": "e3c29ee2-d45e-40b7-acb9-e9923d52131f",
   "metadata": {},
   "outputs": [],
   "source": [
    "if 'Total Revenue' in gme_revenue.columns:\n",
    "    gme_revenue = gme_revenue[['Total Revenue']]\n",
    "else:\n",
    "    # Tomar la primera columna como alternativa\n",
    "    gme_revenue = gme_revenue.iloc[:, [0]]"
   ]
  },
  {
   "cell_type": "code",
   "execution_count": 115,
   "id": "9aa20d4a-88fe-4d68-8df7-79bbab59d0d4",
   "metadata": {},
   "outputs": [],
   "source": [
    "gme_revenue = gme_revenue.reset_index()\n",
    "gme_revenue.rename(columns={'index': 'Date'}, inplace=True)"
   ]
  },
  {
   "cell_type": "code",
   "execution_count": 116,
   "id": "83b29282-e3fa-4fb1-9c65-6a5967d6d10a",
   "metadata": {},
   "outputs": [
    {
     "data": {
      "text/html": [
       "<div>\n",
       "<style scoped>\n",
       "    .dataframe tbody tr th:only-of-type {\n",
       "        vertical-align: middle;\n",
       "    }\n",
       "\n",
       "    .dataframe tbody tr th {\n",
       "        vertical-align: top;\n",
       "    }\n",
       "\n",
       "    .dataframe thead th {\n",
       "        text-align: right;\n",
       "    }\n",
       "</style>\n",
       "<table border=\"1\" class=\"dataframe\">\n",
       "  <thead>\n",
       "    <tr style=\"text-align: right;\">\n",
       "      <th></th>\n",
       "      <th>Date</th>\n",
       "      <th>Total Revenue</th>\n",
       "    </tr>\n",
       "  </thead>\n",
       "  <tbody>\n",
       "    <tr>\n",
       "      <th>2</th>\n",
       "      <td>2</td>\n",
       "      <td>1.282600e+09</td>\n",
       "    </tr>\n",
       "    <tr>\n",
       "      <th>3</th>\n",
       "      <td>3</td>\n",
       "      <td>8.603000e+08</td>\n",
       "    </tr>\n",
       "    <tr>\n",
       "      <th>4</th>\n",
       "      <td>4</td>\n",
       "      <td>7.983000e+08</td>\n",
       "    </tr>\n",
       "    <tr>\n",
       "      <th>5</th>\n",
       "      <td>5</td>\n",
       "      <td>NaN</td>\n",
       "    </tr>\n",
       "    <tr>\n",
       "      <th>6</th>\n",
       "      <td>6</td>\n",
       "      <td>NaN</td>\n",
       "    </tr>\n",
       "  </tbody>\n",
       "</table>\n",
       "</div>"
      ],
      "text/plain": [
       "   Date  Total Revenue\n",
       "2     2   1.282600e+09\n",
       "3     3   8.603000e+08\n",
       "4     4   7.983000e+08\n",
       "5     5            NaN\n",
       "6     6            NaN"
      ]
     },
     "execution_count": 116,
     "metadata": {},
     "output_type": "execute_result"
    }
   ],
   "source": [
    "gme_revenue.tail(5)"
   ]
  },
  {
   "cell_type": "code",
   "execution_count": 117,
   "id": "dc2cc6e9-5730-4c40-9e5e-8344b7ca9459",
   "metadata": {},
   "outputs": [],
   "source": [
    "#Answer 5"
   ]
  },
  {
   "cell_type": "code",
   "execution_count": 118,
   "id": "57f4956b-a41a-4a32-af46-c1c4ff4a06bb",
   "metadata": {},
   "outputs": [],
   "source": [
    "import matplotlib.pyplot as plt"
   ]
  },
  {
   "cell_type": "code",
   "execution_count": 121,
   "id": "28425d06-a48c-44ad-88f1-24b879f46b4e",
   "metadata": {},
   "outputs": [],
   "source": [
    "def make_graph(df, title=\"Tesla Stock Price Over Time\"):\n",
    "    plt.figure(figsize=(12,6))\n",
    "    plt.plot(df['Date'], df['Close'], color='green', label='TSLA Close Price')\n",
    "    plt.title(title, fontsize=20)\n",
    "    plt.xlabel('Date')\n",
    "    plt.ylabel('Close Price (USD)')\n",
    "    plt.xticks(rotation=45)\n",
    "    plt.legend()\n",
    "    plt.grid(True)\n",
    "    plt.show()"
   ]
  },
  {
   "cell_type": "code",
   "execution_count": 122,
   "id": "e5da5e10-8e0a-46d8-9730-9aabd7315093",
   "metadata": {},
   "outputs": [
    {
     "data": {
      "image/png": "[encoded data removed]",
      "text/plain": [
       "<Figure size 1200x600 with 1 Axes>"
      ]
     },
     "metadata": {},
     "output_type": "display_data"
    }
   ],
   "source": [
    "make_graph(tesla_data, title=\"Tesla Stock Closing Prices Over Time\")"
   ]
  },
  {
   "cell_type": "code",
   "execution_count": 123,
   "id": "96374566-5756-4308-9447-52d9cb6de94c",
   "metadata": {},
   "outputs": [],
   "source": [
    "#Answer 6"
   ]
  },
  {
   "cell_type": "code",
   "execution_count": 124,
   "id": "d546a8b8-ef23-4807-8f80-528db08af1ed",
   "metadata": {},
   "outputs": [],
   "source": [
    "#Get Historical data \n",
    "\n",
    "gme = yf.Ticker(\"GME\")\n",
    "gme_data = gme.history(period=\"max\").reset_index()\n",
    "gme_data['Date'] = pd.to_datetime(gme_data['Date'])"
   ]
  },
  {
   "cell_type": "code",
   "execution_count": 125,
   "id": "80101a8d-fdec-421a-9067-b8e19fcc473c",
   "metadata": {},
   "outputs": [],
   "source": [
    "#Make graph function stock price over time"
   ]
  },
  {
   "cell_type": "code",
   "execution_count": 129,
   "id": "26193fd7-245d-435f-9144-9ed9657bdb43",
   "metadata": {},
   "outputs": [],
   "source": [
    "def make_graph(stock_df, title=\"Stock Price Over Time\"):\n",
    "    plt.figure(figsize=(14,7))\n",
    "    plt.plot(stock_df['Date'], stock_df['Close'], color='red', label='GME Close Price')\n",
    "    plt.title(title, fontsize=25)\n",
    "    plt.xlabel('Date')\n",
    "    plt.ylabel('Close Price (USD)')\n",
    "    plt.xticks(rotation=45)\n",
    "    plt.legend()\n",
    "    plt.grid(True)\n",
    "    plt.show()"
   ]
  },
  {
   "cell_type": "code",
   "execution_count": 127,
   "id": "e1090505-9fda-41c2-a848-e7b639b83918",
   "metadata": {},
   "outputs": [],
   "source": [
    "# show graph"
   ]
  },
  {
   "cell_type": "code",
   "execution_count": 130,
   "id": "b6c74e82-a85e-4795-864d-f9594fd0a7b9",
   "metadata": {},
   "outputs": [
    {
     "data": {
      "image/png": "[encoded data removed]",
      "text/plain": [
       "<Figure size 1400x700 with 1 Axes>"
      ]
     },
     "metadata": {},
     "output_type": "display_data"
    }
   ],
   "source": [
    "make_graph(gme_data, title=\"GameStop Stock Closing Prices Over Time\")"
   ]
  },
  {
   "cell_type": "code",
   "execution_count": null,
   "id": "6a7089c2-328b-46af-8fbc-e504222e43df",
   "metadata": {},
   "outputs": [],
   "source": []
  }
 ],
 "metadata": {
  "kernelspec": {
   "display_name": "Python [conda env:base] *",
   "language": "python",
   "name": "conda-base-py"
  },
  "language_info": {
   "codemirror_mode": {
    "name": "ipython",
    "version": 3
   },
   "file_extension": ".py",
   "mimetype": "text/x-python",
   "name": "python",
   "nbconvert_exporter": "python",
   "pygments_lexer": "ipython3",
   "version": "3.13.5"
  }
 },
 "nbformat": 4,
 "nbformat_minor": 5
}
